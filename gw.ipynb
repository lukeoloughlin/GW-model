{
 "cells": [
  {
   "cell_type": "code",
   "execution_count": 1,
   "metadata": {},
   "outputs": [],
   "source": [
    "import numpy as np\n",
    "import pandas as pd\n",
    "import matplotlib.pyplot as plt\n",
    "import GreensteinWinslow as gw"
   ]
  },
  {
   "cell_type": "code",
   "execution_count": 2,
   "metadata": {},
   "outputs": [],
   "source": [
    "# Example of a convenience wrapper\n",
    "class Parameters:\n",
    "    __params: gw.Parameters\n",
    "\n",
    "    def __init__(self):\n",
    "        self.__params = gw.Parameters()\n",
    "\n",
    "    @property\n",
    "    def GNa(self) -> float:\n",
    "        return self.__params.GNa\n",
    "    \n",
    "    @GNa.setter\n",
    "    def GNa(self, val: float) -> None:\n",
    "        self.__params.GNa = val"
   ]
  },
  {
   "cell_type": "code",
   "execution_count": 3,
   "metadata": {},
   "outputs": [],
   "source": [
    "params = Parameters()"
   ]
  },
  {
   "cell_type": "code",
   "execution_count": 4,
   "metadata": {},
   "outputs": [
    {
     "data": {
      "text/plain": [
       "12.8"
      ]
     },
     "execution_count": 4,
     "metadata": {},
     "output_type": "execute_result"
    }
   ],
   "source": [
    "params.GNa"
   ]
  },
  {
   "cell_type": "code",
   "execution_count": 5,
   "metadata": {},
   "outputs": [
    {
     "data": {
      "text/plain": [
       "-1.6700904"
      ]
     },
     "execution_count": 5,
     "metadata": {},
     "output_type": "execute_result"
    }
   ],
   "source": [
    "gw.INa(-91, 0.1, .99, .99, 12., 51.)"
   ]
  },
  {
   "cell_type": "code",
   "execution_count": 6,
   "metadata": {},
   "outputs": [
    {
     "data": {
      "text/plain": [
       "30.748936080711267"
      ]
     },
     "execution_count": 6,
     "metadata": {},
     "output_type": "execute_result"
    }
   ],
   "source": [
    "gw.nernst(.1, 1, valence=2)"
   ]
  },
  {
   "cell_type": "code",
   "execution_count": 8,
   "metadata": {},
   "outputs": [
    {
     "data": {
      "text/plain": [
       "array([[ 68.70469386,  53.10940082,  73.32038347,  93.42823515,\n",
       "        106.06319051,  76.30254481,  54.89331604, 188.74569638,\n",
       "         39.97663033,  47.47011969],\n",
       "       [ 95.56492948,  89.46747089,  37.44855516,  19.9575022 ,\n",
       "          0.86781033,  53.03587432, 102.89510334, 155.23366439,\n",
       "         31.46032285,  64.91277933],\n",
       "       [ 50.1840512 , -29.22234302,  29.17671462,  77.16449639,\n",
       "         33.57014841,  52.25955215,  54.66413918,  82.80262598,\n",
       "         85.23195675,  47.58034114],\n",
       "       [116.98379478,  98.49068469,  49.88681456,  83.30590638,\n",
       "         32.59496703,  22.33410665,  92.11521436,  58.6535686 ,\n",
       "        103.20825646,  40.56485765],\n",
       "       [ 54.97232755,  34.95945649,  48.9156977 ,  43.22455816,\n",
       "        110.84416725,  49.63442003,  97.96641932,  35.42032275,\n",
       "        132.05190888,  79.73339929],\n",
       "       [ 91.41136031, 142.61082333,  61.5680276 ,  19.25605469,\n",
       "         68.74995503,  36.64554408,  85.08600721,  71.10447463,\n",
       "         56.20097905,  38.57688443],\n",
       "       [ 94.28234626,  68.63638434,  90.75616734,  73.36671848,\n",
       "         63.01696502,  24.07615411,  43.02662637,  70.42770208,\n",
       "         78.18558293, 101.99617413],\n",
       "       [ 93.34581503,  49.15808605,  26.32410419, -55.89228757,\n",
       "         48.79543105,  22.86163768,  75.52769217,  92.37701404,\n",
       "         72.154754  ,  98.55659849],\n",
       "       [ 40.59465302, 107.73926345,  93.57005294,  99.80878696,\n",
       "         87.21983537,  65.62508882,  66.24711854,  53.33433015,\n",
       "         61.82337959,  64.06679947],\n",
       "       [ 75.0206438 ,  82.03251299,  63.11871961,  93.59303427,\n",
       "         61.13982453,  63.01014933,  81.08880082,  56.57419163,\n",
       "        -26.6431422 ,  93.61439673]])"
      ]
     },
     "execution_count": 8,
     "metadata": {},
     "output_type": "execute_result"
    }
   ],
   "source": [
    "gw.nernst_v(.1*np.random.rand(10,10), np.random.rand(10,10), 26.71, 1)"
   ]
  },
  {
   "cell_type": "code",
   "execution_count": 4,
   "metadata": {},
   "outputs": [
    {
     "data": {
      "text/plain": [
       "0.6737754828980843"
      ]
     },
     "execution_count": 4,
     "metadata": {},
     "output_type": "execute_result"
    }
   ],
   "source": [
    "gw.urand()"
   ]
  },
  {
   "cell_type": "code",
   "execution_count": 5,
   "metadata": {},
   "outputs": [
    {
     "data": {
      "text/plain": [
       "12.8"
      ]
     },
     "execution_count": 5,
     "metadata": {},
     "output_type": "execute_result"
    }
   ],
   "source": [
    "params = gw.Parameters()\n",
    "params.GNa"
   ]
  },
  {
   "cell_type": "code",
   "execution_count": 6,
   "metadata": {},
   "outputs": [
    {
     "name": "stdout",
     "output_type": "stream",
     "text": [
      "Help on module GreensteinWinslow:\n",
      "\n",
      "NAME\n",
      "    GreensteinWinslow - Pybind11 test. Only includes the Beeler Reuter term for INa.\n",
      "\n",
      "CLASSES\n",
      "    pybind11_builtins.pybind11_object(builtins.object)\n",
      "        GWModel\n",
      "        Parameters\n",
      "    \n",
      "    class GWModel(pybind11_builtins.pybind11_object)\n",
      "     |  Method resolution order:\n",
      "     |      GWModel\n",
      "     |      pybind11_builtins.pybind11_object\n",
      "     |      builtins.object\n",
      "     |  \n",
      "     |  Methods defined here:\n",
      "     |  \n",
      "     |  __init__(...)\n",
      "     |      __init__(self: GreensteinWinslow.GWModel, arg0: int) -> None\n",
      "     |  \n",
      "     |  __repr__(...)\n",
      "     |      __repr__(self: GreensteinWinslow.GWModel) -> str\n",
      "     |  \n",
      "     |  ----------------------------------------------------------------------\n",
      "     |  Static methods inherited from pybind11_builtins.pybind11_object:\n",
      "     |  \n",
      "     |  __new__(*args, **kwargs) from pybind11_builtins.pybind11_type\n",
      "     |      Create and return a new object.  See help(type) for accurate signature.\n",
      "    \n",
      "    class Parameters(pybind11_builtins.pybind11_object)\n",
      "     |  Method resolution order:\n",
      "     |      Parameters\n",
      "     |      pybind11_builtins.pybind11_object\n",
      "     |      builtins.object\n",
      "     |  \n",
      "     |  Methods defined here:\n",
      "     |  \n",
      "     |  __init__(...)\n",
      "     |      __init__(self: GreensteinWinslow.Parameters) -> None\n",
      "     |  \n",
      "     |  __repr__(...)\n",
      "     |      __repr__(self: GreensteinWinslow.Parameters) -> str\n",
      "     |  \n",
      "     |  ----------------------------------------------------------------------\n",
      "     |  Data descriptors defined here:\n",
      "     |  \n",
      "     |  GNa\n",
      "     |      Conductance of sodium channels\n",
      "     |  \n",
      "     |  ----------------------------------------------------------------------\n",
      "     |  Static methods inherited from pybind11_builtins.pybind11_object:\n",
      "     |  \n",
      "     |  __new__(*args, **kwargs) from pybind11_builtins.pybind11_type\n",
      "     |      Create and return a new object.  See help(type) for accurate signature.\n",
      "\n",
      "FUNCTIONS\n",
      "    INa(...) method of builtins.PyCapsule instance\n",
      "        INa(V: float, m: float, h: float, j: float, GNa: float, ENa: float) -> float\n",
      "        \n",
      "        Beeler Reuter Sodium current.\n",
      "    \n",
      "    nernst(...) method of builtins.PyCapsule instance\n",
      "        nernst(Conc_in: float, Conc_ex: float, RT_F: float = 26.70818652849741, valence: float = 1.0) -> float\n",
      "        \n",
      "        Calculate the Nernst potential using the Nernst equation.\n",
      "    \n",
      "    nernst_v(...) method of builtins.PyCapsule instance\n",
      "        nernst_v(arg0: numpy.ndarray[numpy.float64], arg1: numpy.ndarray[numpy.float64], arg2: numpy.ndarray[numpy.float64], arg3: numpy.ndarray[numpy.float64]) -> object\n",
      "        \n",
      "        Vectorized Nernst\n",
      "    \n",
      "    urand(...) method of builtins.PyCapsule instance\n",
      "        urand() -> float\n",
      "        \n",
      "        Uniform random number generator\n",
      "\n",
      "FILE\n",
      "    /home/luke/GW-model/GreensteinWinslow.cpython-311-x86_64-linux-gnu.so\n",
      "\n",
      "\n"
     ]
    }
   ],
   "source": [
    "help(gw)"
   ]
  },
  {
   "cell_type": "code",
   "execution_count": 5,
   "metadata": {},
   "outputs": [],
   "source": [
    "#data = pd.read_csv(\"data.csv\")\n",
    "data = pd.read_csv(\"dummy.csv\")"
   ]
  },
  {
   "cell_type": "code",
   "execution_count": 4,
   "metadata": {},
   "outputs": [
    {
     "data": {
      "image/png": "[encoded data removed]",
      "text/plain": [
       "<Figure size 640x480 with 1 Axes>"
      ]
     },
     "metadata": {},
     "output_type": "display_data"
    }
   ],
   "source": [
    "plt.plot(data.t, data.ICaL)\n",
    "plt.show()"
   ]
  },
  {
   "cell_type": "code",
   "execution_count": 10,
   "metadata": {},
   "outputs": [],
   "source": [
    "data = pd.read_csv(\"dummy.csv\")"
   ]
  },
  {
   "cell_type": "code",
   "execution_count": 11,
   "metadata": {},
   "outputs": [
    {
     "data": {
      "image/png": "[encoded data removed]",
      "text/plain": [
       "<Figure size 640x480 with 1 Axes>"
      ]
     },
     "metadata": {},
     "output_type": "display_data"
    }
   ],
   "source": [
    "plt.plot(data.t, data.ICaL)\n",
    "plt.show()"
   ]
  },
  {
   "cell_type": "code",
   "execution_count": null,
   "metadata": {},
   "outputs": [],
   "source": []
  }
 ],
 "metadata": {
  "kernelspec": {
   "display_name": "base",
   "language": "python",
   "name": "python3"
  },
  "language_info": {
   "codemirror_mode": {
    "name": "ipython",
    "version": 3
   },
   "file_extension": ".py",
   "mimetype": "text/x-python",
   "name": "python",
   "nbconvert_exporter": "python",
   "pygments_lexer": "ipython3",
   "version": "3.12.2"
  }
 },
 "nbformat": 4,
 "nbformat_minor": 2
}
